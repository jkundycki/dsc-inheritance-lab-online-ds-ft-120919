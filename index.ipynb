{
 "cells": [
  {
   "cell_type": "markdown",
   "metadata": {},
   "source": [
    "# Inheritance - Lab\n",
    "\n",
    "## Introduction\n",
    "\n",
    "In this lab, you'll use what you've learned about inheritance to model a zoo using superclasses, subclasses, and maybe even an abstract superclass!\n",
    "\n",
    "## Objectives\n",
    "\n",
    "In this lab you will: \n",
    "\n",
    "- Create a domain model using OOP \n",
    "- Use inheritance to write nonredundant code \n",
    "\n",
    "## Modeling a Zoo\n",
    "\n",
    "Consider the following scenario:  You've been hired by a zookeeper to build a program that keeps track of all the animals in the zoo.  This is a great opportunity to make use of inheritance and object-oriented programming!\n",
    "\n",
    "## Creating an Abstract Superclass\n",
    "\n",
    "Start by creating an abstract superclass, `Animal()`.  When your program is complete, all subclasses of `Animal()` will have the following attributes:\n",
    "\n",
    "* `name`, which is a string set at instantation time\n",
    "* `size`, which can be `'small'`, `'medium'`, `'large'`, or `'enormous'` \n",
    "* `weight`, which is an integer set at instantiation time \n",
    "* `species`, a string that tells us the species of the animal\n",
    "* `food_type`, which can be `'herbivore'`, `'carnivore'`, or `'omnivore'`\n",
    "* `nocturnal`, a boolean value that is `True` if the animal sleeps during the day, otherwise `False`\n",
    "\n",
    "They'll also have the following behaviors:\n",
    "\n",
    "* `sleep`, which prints a string saying if the animal sleeps during day or night\n",
    "* `eat`, which takes in the string `'plants'` or `'meat'`, and returns `'{animal name} the {animal species} thinks {food} is yummy!'` or `'I don't eat this!'` based on the animal's `food_type` attribute \n",
    "\n",
    "In the cell below, create an abstract superclass that meets these specifications.\n",
    "\n",
    "**_NOTE:_** For some attributes in an abstract superclass such as `size`, the initial value doesn't matter -- just make sure that you remember to override it in each of the subclasses!"
   ]
  },
  {
   "cell_type": "code",
   "execution_count": 78,
   "metadata": {},
   "outputs": [],
   "source": [
    "class Animal(object):\n",
    "    \n",
    "    def __init__(self, name, weight):\n",
    "        self.name = name\n",
    "        self.size  = None\n",
    "        self.weight = weight\n",
    "        self.species = None\n",
    "        self.food_type = None\n",
    "        self.nocturnal = False\n",
    "    \n",
    "    def sleep(self):\n",
    "        if self.nocturnal == False:\n",
    "            return(\"This animal sleeps at night\")\n",
    "        else:\n",
    "            return(\"This animal sleeps during the day\")\n",
    "    \n",
    "    def eat(self, food):\n",
    "        if self.food_type == 'omnivore':\n",
    "            print(\"{} the {} thinks {} is Yummy!\".format(self.name, self.species, food))\n",
    "        elif (food == 'meat' and self.food_type == \"carnivore\") or (food == 'plants' and self.food_type == 'herbivore'):\n",
    "            print(\"{} the {} thinks {} is Yummy!\".format(self.name, self.species, food))\n",
    "        else:\n",
    "            print(\"I don't eat this!\")\n",
    "            "
   ]
  },
  {
   "cell_type": "markdown",
   "metadata": {},
   "source": [
    "Great! Now that you have our abstract superclass, you can begin building out the specific animal classes.\n",
    "\n",
    "In the cell below, complete the `Elephant()` class.  This class should:\n",
    "\n",
    "* subclass `Animal` \n",
    "* have a species of `'elephant'` \n",
    "* have a size of `'enormous'` \n",
    "* have a food type of `'herbivore'` \n",
    "* set nocturnal to `False` \n",
    "\n",
    "**_Hint:_** Remember to make use of `.super()` during initialization, and be sure to pass in the values it expects at instantiation time!"
   ]
  },
  {
   "cell_type": "code",
   "execution_count": 9,
   "metadata": {},
   "outputs": [],
   "source": [
    "class Elephant(Animal):\n",
    "    \n",
    "    def __init__(self, name, weight):\n",
    "        super().__init__(name, weight)\n",
    "        self.species = 'elephant'\n",
    "        self.size = 'enormous'\n",
    "        self.food_type = 'herbivore'"
   ]
  },
  {
   "cell_type": "markdown",
   "metadata": {},
   "source": [
    "Great! Now, in the cell below, create a `Tiger()` class.  This class should: \n",
    "\n",
    "* subclass `Animal` \n",
    "* have a species of `'tiger'` \n",
    "* have a size of `'large'` \n",
    "* have a food type of `'carnivore'` \n",
    "* set nocturnal to `True` "
   ]
  },
  {
   "cell_type": "code",
   "execution_count": 10,
   "metadata": {},
   "outputs": [],
   "source": [
    "class Tiger(Animal):\n",
    "    \n",
    "    def __init__(self, name, weight):\n",
    "        super().__init__(name, weight)\n",
    "        self.species = 'tiger'\n",
    "        self.size = 'large'\n",
    "        self.food_type = 'carnivore'\n",
    "        self.nocturnal = True"
   ]
  },
  {
   "cell_type": "markdown",
   "metadata": {},
   "source": [
    "Great! Two more classes to go. In the cell below, create a `Raccoon()` class. This class should:\n",
    "\n",
    "* subclass `Animal` \n",
    "* have a species of `raccoon` \n",
    "* have a size of `'small'` \n",
    "* have a food type of `'omnivore'` \n",
    "* set nocturnal to `True` "
   ]
  },
  {
   "cell_type": "code",
   "execution_count": 11,
   "metadata": {},
   "outputs": [],
   "source": [
    "class Raccoon(Animal):\n",
    "    \n",
    "    def __init__(self, name, weight):\n",
    "        super().__init__(name, weight)\n",
    "        self.species = 'raccoon'\n",
    "        self.size = 'small'\n",
    "        self.food_type = 'omnivore'\n",
    "        self.nocturnal = True"
   ]
  },
  {
   "cell_type": "markdown",
   "metadata": {},
   "source": [
    "Finally, create a `Gorilla()` class. This class should:\n",
    "\n",
    "* subclass `Animal` \n",
    "* have a species of `gorilla` \n",
    "* have a size of `'large'` \n",
    "* have a food type of `'herbivore'` \n",
    "* set nocturnal to `False` "
   ]
  },
  {
   "cell_type": "code",
   "execution_count": 12,
   "metadata": {},
   "outputs": [],
   "source": [
    "class Gorilla(Animal):\n",
    "    \n",
    "    def __init__(self, name, weight):\n",
    "        super().__init__(name, weight)\n",
    "        self.species = 'gorilla'\n",
    "        self.size = 'large'\n",
    "        self.food_type = 'herbivore'\n",
    "        self.nocturnal = False"
   ]
  },
  {
   "cell_type": "markdown",
   "metadata": {},
   "source": [
    "## Using Our Objects\n",
    "\n",
    "Now it's time to populate the zoo! To ease the creation of animal instances, create a function `add_animal_to_zoo()`.\n",
    "\n",
    "This function should take in the following parameters:\n",
    "\n",
    "* `zoo`, an array representing the current state of the zoo \n",
    "* `animal_type`, a string.  Can be `'Gorilla'`, `'Raccoon'`, `'Tiger'`, or `'Elephant'` \n",
    "* `name`, the name of the animal being created \n",
    "* `weight`, the weight of the animal being created \n",
    "\n",
    "The function should then:\n",
    "\n",
    "* use `animal_type` to determine which object to create\n",
    "* Create an instance of that animal, passing in the `name` and `weight`\n",
    "* Append the newly created animal to `zoo`\n",
    "* Return `zoo`"
   ]
  },
  {
   "cell_type": "code",
   "execution_count": 35,
   "metadata": {},
   "outputs": [],
   "source": [
    "def add_animal_to_zoo(zoo, animal_type, name, weight):\n",
    "    \n",
    "    animal = None\n",
    "    \n",
    "    if animal_type == 'gorilla':\n",
    "        animal = Gorilla(name, weight)\n",
    "    elif animal_type == 'raccoon':\n",
    "        animal = Raccoon(name, weight)\n",
    "    elif animal_type == 'tiger':\n",
    "        animal = Tiger(name, weight)\n",
    "    elif animal_type == 'elephant':\n",
    "        animal = Elephant(name, weight)\n",
    "    else:\n",
    "        return(\"Sorry I don't recognize this animal\")\n",
    "    \n",
    "    zoo.append(animal)\n",
    "    \n",
    "    return(zoo)\n",
    "        "
   ]
  },
  {
   "cell_type": "markdown",
   "metadata": {},
   "source": [
    "Great! Now, add some animals to your zoo. \n",
    "\n",
    "Create the following animals and add them to your zoo.  The names and weights are up to you.\n",
    "\n",
    "* 2 Elephants\n",
    "* 2 Raccons\n",
    "* 1 Gorilla\n",
    "* 3 Tigers"
   ]
  },
  {
   "cell_type": "code",
   "execution_count": 36,
   "metadata": {},
   "outputs": [
    {
     "data": {
      "text/plain": [
       "[<__main__.Elephant at 0x28fce3590c8>,\n",
       " <__main__.Elephant at 0x28fce359108>,\n",
       " <__main__.Raccoon at 0x28fce359148>,\n",
       " <__main__.Raccoon at 0x28fce359208>,\n",
       " <__main__.Gorilla at 0x28fce359288>,\n",
       " <__main__.Tiger at 0x28fce3592c8>,\n",
       " <__main__.Tiger at 0x28fce359188>,\n",
       " <__main__.Tiger at 0x28fce359348>]"
      ]
     },
     "execution_count": 36,
     "metadata": {},
     "output_type": "execute_result"
    }
   ],
   "source": [
    "zoo = []\n",
    "\n",
    "# Create your animals and add them to the 'zoo' in this cell!\n",
    "add_animal_to_zoo(zoo, 'elephant', 'Babar', 1000)\n",
    "add_animal_to_zoo(zoo, 'elephant', 'Chlo Chlo', 400)\n",
    "add_animal_to_zoo(zoo, 'raccoon', 'Rocket', 15)\n",
    "add_animal_to_zoo(zoo, 'raccoon', 'Trashy', 30)\n",
    "add_animal_to_zoo(zoo, 'gorilla', 'Harambe', 500)\n",
    "add_animal_to_zoo(zoo, 'tiger', 'Jack', 300)\n",
    "add_animal_to_zoo(zoo, 'tiger', 'Jill', 400)\n",
    "add_animal_to_zoo(zoo, 'tiger', 'Jesse', 300)"
   ]
  },
  {
   "cell_type": "code",
   "execution_count": 37,
   "metadata": {},
   "outputs": [
    {
     "data": {
      "text/plain": [
       "[<__main__.Elephant at 0x28fce3590c8>,\n",
       " <__main__.Elephant at 0x28fce359108>,\n",
       " <__main__.Raccoon at 0x28fce359148>,\n",
       " <__main__.Raccoon at 0x28fce359208>,\n",
       " <__main__.Gorilla at 0x28fce359288>,\n",
       " <__main__.Tiger at 0x28fce3592c8>,\n",
       " <__main__.Tiger at 0x28fce359188>,\n",
       " <__main__.Tiger at 0x28fce359348>]"
      ]
     },
     "execution_count": 37,
     "metadata": {},
     "output_type": "execute_result"
    }
   ],
   "source": [
    "zoo"
   ]
  },
  {
   "cell_type": "markdown",
   "metadata": {},
   "source": [
    "Great! Now that you have a populated zoo, you can do what the zookeeper hired you to do -- write a program that feeds the correct animals the right food at the right times!\n",
    "\n",
    "To do this, write a function called `feed_animals()`. This function should take in two arguments:\n",
    "\n",
    "* `zoo`, the zoo array containing all the animals\n",
    "* `time`, which can be `'Day'` or `'Night'`.  This should default to day if nothing is entered for `time` \n",
    "\n",
    "This function should:\n",
    "\n",
    "* Feed only the non-nocturnal animals if `time='Day'`, or only the nocturnal animals if `time='Night'`\n",
    "* Check the food type of each animal before feeding.  If the animal is a carnivore, feed it `'meat'`; otherwise, feed it `'plants'`. Feed the animals by using their `.eat()` method "
   ]
  },
  {
   "cell_type": "code",
   "execution_count": 75,
   "metadata": {},
   "outputs": [],
   "source": [
    "def feed_animals(zoo, time='Day'):\n",
    "    for animal in zoo:\n",
    "        if time == 'Day':\n",
    "            if animal.nocturnal == False:\n",
    "                if animal.food_type == 'carnivore':\n",
    "                    animal.eat('meat')\n",
    "                else:\n",
    "                    animal.eat('plants')\n",
    "            \n",
    "            \n",
    "        else:\n",
    "            for animal in zoo:\n",
    "                if animal.nocturnal == True:\n",
    "                    if animal.food_type == 'carnivore':\n",
    "                        animal.eat('meat')\n",
    "                    else:\n",
    "                        animal.eat('plants')"
   ]
  },
  {
   "cell_type": "markdown",
   "metadata": {},
   "source": [
    "Now, test out your program.  Call the function for a daytime feeding below."
   ]
  },
  {
   "cell_type": "code",
   "execution_count": 84,
   "metadata": {},
   "outputs": [
    {
     "ename": "TypeError",
     "evalue": "eat() takes 1 positional argument but 2 were given",
     "output_type": "error",
     "traceback": [
      "\u001b[1;31m---------------------------------------------------------------------------\u001b[0m",
      "\u001b[1;31mTypeError\u001b[0m                                 Traceback (most recent call last)",
      "\u001b[1;32m<ipython-input-84-c3067cfbd922>\u001b[0m in \u001b[0;36m<module>\u001b[1;34m\u001b[0m\n\u001b[1;32m----> 1\u001b[1;33m \u001b[0mfeed_animals\u001b[0m\u001b[1;33m(\u001b[0m\u001b[0mzoo\u001b[0m\u001b[1;33m)\u001b[0m\u001b[1;33m\u001b[0m\u001b[1;33m\u001b[0m\u001b[0m\n\u001b[0m",
      "\u001b[1;32m<ipython-input-83-2e94fa7bd26f>\u001b[0m in \u001b[0;36mfeed_animals\u001b[1;34m(zoo, time)\u001b[0m\n\u001b[0;32m      8\u001b[0m                     \u001b[0manimal\u001b[0m\u001b[1;33m.\u001b[0m\u001b[0meat\u001b[0m\u001b[1;33m(\u001b[0m\u001b[1;34m'meat'\u001b[0m\u001b[1;33m)\u001b[0m\u001b[1;33m\u001b[0m\u001b[1;33m\u001b[0m\u001b[0m\n\u001b[0;32m      9\u001b[0m                 \u001b[1;32melse\u001b[0m\u001b[1;33m:\u001b[0m\u001b[1;33m\u001b[0m\u001b[1;33m\u001b[0m\u001b[0m\n\u001b[1;32m---> 10\u001b[1;33m                     \u001b[0manimal\u001b[0m\u001b[1;33m.\u001b[0m\u001b[0meat\u001b[0m\u001b[1;33m(\u001b[0m\u001b[1;34m'plants'\u001b[0m\u001b[1;33m)\u001b[0m\u001b[1;33m\u001b[0m\u001b[1;33m\u001b[0m\u001b[0m\n\u001b[0m\u001b[0;32m     11\u001b[0m         \u001b[1;32melse\u001b[0m\u001b[1;33m:\u001b[0m\u001b[1;33m\u001b[0m\u001b[1;33m\u001b[0m\u001b[0m\n\u001b[0;32m     12\u001b[0m             \u001b[1;31m# CASE: Night-time feeding -- feed only the nocturnal animals!\u001b[0m\u001b[1;33m\u001b[0m\u001b[1;33m\u001b[0m\u001b[1;33m\u001b[0m\u001b[0m\n",
      "\u001b[1;31mTypeError\u001b[0m: eat() takes 1 positional argument but 2 were given"
     ]
    }
   ],
   "source": [
    "feed_animals(zoo)"
   ]
  },
  {
   "cell_type": "markdown",
   "metadata": {},
   "source": [
    "If the elephants and gorrillas were fed then things should be good!\n",
    "\n",
    "In the cell below, call `feed_animals()` again, but this time set `time='Night'`"
   ]
  },
  {
   "cell_type": "code",
   "execution_count": null,
   "metadata": {},
   "outputs": [],
   "source": [
    "feed_animals(zoo, nocturnal)"
   ]
  },
  {
   "cell_type": "markdown",
   "metadata": {},
   "source": [
    "That's it! You've used OOP and inheritance to build a working program to help the zookeeper feed his animals with right food at the correct times!\n",
    "\n",
    "## Summary\n",
    "\n",
    "In this lab, you modeled a zoo and learned how to use inheritance to write nonredundant code, used subclasses and superclasses, and create a domain model using OOP."
   ]
  }
 ],
 "metadata": {
  "kernelspec": {
   "display_name": "Python 3",
   "language": "python",
   "name": "python3"
  },
  "language_info": {
   "codemirror_mode": {
    "name": "ipython",
    "version": 3
   },
   "file_extension": ".py",
   "mimetype": "text/x-python",
   "name": "python",
   "nbconvert_exporter": "python",
   "pygments_lexer": "ipython3",
   "version": "3.7.4"
  }
 },
 "nbformat": 4,
 "nbformat_minor": 2
}
